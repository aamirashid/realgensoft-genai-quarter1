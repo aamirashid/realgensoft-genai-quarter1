{
 "cells": [
  {
   "cell_type": "markdown",
   "metadata": {},
   "source": [
    "### **Python Exercises on Lists**\n",
    "**Exercise 3-1: Names**\n",
    "\n",
    "* **Task**: Store the names of a few of your friends in a list called <span style=\"color: green;\"><b>names</b></span>. Print each person’s name by accessing each element in the list, one at a time."
   ]
  },
  {
   "cell_type": "code",
   "execution_count": 1,
   "metadata": {},
   "outputs": [
    {
     "name": "stdout",
     "output_type": "stream",
     "text": [
      "Kamran\n",
      "Aziz\n",
      "Arshad\n",
      "Zaib\n",
      "Wasif\n"
     ]
    }
   ],
   "source": [
    "names = [\"Kamran\", \"Aziz\", \"Arshad\", \"Zaib\", \"Wasif\"]     # Initializing names list\n",
    "for name in names:                                        # Print each name through for loop\n",
    "    print(name)                                           # by accessing each element in the list"
   ]
  },
  {
   "cell_type": "markdown",
   "metadata": {},
   "source": [
    "**Exercise 3-2: Greetings**\n",
    "* **Task**: <span style=\"color: red;\"><b>Start with the list you used in Exercise 3-1</b></span>. Instead of just printing each person’s name, print a message to them. The text of each message should be the same, but each message should be personalized with the person’s name."
   ]
  },
  {
   "cell_type": "code",
   "execution_count": 2,
   "metadata": {},
   "outputs": [
    {
     "name": "stdout",
     "output_type": "stream",
     "text": [
      "Hello, Kamran! I hope you're having a great day!\n",
      "Hello, Aziz! I hope you're having a great day!\n",
      "Hello, Arshad! I hope you're having a great day!\n",
      "Hello, Zaib! I hope you're having a great day!\n",
      "Hello, Wasif! I hope you're having a great day!\n"
     ]
    }
   ],
   "source": [
    "for name in names:                                                 # Looping through each name\n",
    "    print(f\"Hello, {name}! I hope you're having a great day!\")     # Printing a personalized message"
   ]
  },
  {
   "cell_type": "markdown",
   "metadata": {},
   "source": [
    "**Exercise 3-3: Your Own List**\n",
    "* **Task**: Think of your favorite mode of transportation, such as a motorcycle or a car, and make a list that stores several examples. Use your list to print a series of statements about these items, such as “I would like to own a Honda BRV.”"
   ]
  },
  {
   "cell_type": "code",
   "execution_count": 3,
   "metadata": {},
   "outputs": [
    {
     "name": "stdout",
     "output_type": "stream",
     "text": [
      "I like to own a Rolls Royce.\n",
      "I like to own a Mercedes-Benz.\n",
      "I like to own a BMW 3 Series.\n",
      "I like to own a Hyundai Sonata.\n",
      "I like to own a Toyota Corolla.\n",
      "I like to own a Honda BRV.\n"
     ]
    }
   ],
   "source": [
    "cars = [\"Rolls Royce\", \"Mercedes-Benz\", \"BMW 3 Series\", \"Hyundai Sonata\", \"Toyota Corolla\", \"Honda BRV\"]\n",
    "for car in cars:                         # Loop through each car\n",
    "    print(f\"I like to own a {car}.\")     # Print personalized statement"
   ]
  },
  {
   "cell_type": "markdown",
   "metadata": {},
   "source": [
    "**Exercise 3-4: Guest List**\n",
    "* **Task**: If you could invite anyone, living or deceased, to dinner, who would you invite? Make a list that includes at least three people you’d like to invite to dinner. Then use your list to print a message to each person, inviting them to dinner."
   ]
  },
  {
   "cell_type": "code",
   "execution_count": 4,
   "metadata": {},
   "outputs": [
    {
     "name": "stdout",
     "output_type": "stream",
     "text": [
      "Dear Kamran Chughtai, I'd like to invite youe to have a dinner with me.\n",
      "Dear Izhar ul Haque, I'd like to invite youe to have a dinner with me.\n",
      "Dear Syed Hassan Mehdi, I'd like to invite youe to have a dinner with me.\n"
     ]
    }
   ],
   "source": [
    "dinner_guests = [\"Kamran Chughtai\", \"Izhar ul Haque\", \"Syed Hassan Mehdi\"]            # List of friends I'd like to invite\n",
    "for guest in dinner_guests:                                                           # Loop through the list and print\n",
    "    print(f\"Dear {guest}, I'd like to invite youe to have a dinner with me.\")"
   ]
  },
  {
   "cell_type": "markdown",
   "metadata": {},
   "source": [
    "**Exercise 3-5: Changing Guest List**\n",
    "* **Task**: <span style=\"color: red;\"><b>Start with your program from Exercise 3-4</b></span>. Add a <span style=\"color: green;\"><b>print()</b></span> call at the end of your program, stating the name of the guest who can’t make it. Modify your list, replacing the name of the guest who can’t make it with the name of the new person you are inviting. Print a second set of invitation messages, one for each person who is still in your list."
   ]
  },
  {
   "cell_type": "code",
   "execution_count": 5,
   "metadata": {},
   "outputs": [
    {
     "name": "stdout",
     "output_type": "stream",
     "text": [
      "Dear Kamran Chughtai, I'd like to invite youe to have a dinner with me.\n",
      "Dear Izhar ul Haque, I'd like to invite youe to have a dinner with me.\n",
      "Dear Syed Hassan Mehdi, I'd like to invite youe to have a dinner with me.\n",
      "\n",
      "Unfortunately, Kamran Chughtai can't make it to dinner.\n",
      "\n",
      "Dear Aziz Subhani, I'd like to invite youe to have a dinner with me.\n",
      "Dear Izhar ul Haque, I'd like to invite youe to have a dinner with me.\n",
      "Dear Syed Hassan Mehdi, I'd like to invite youe to have a dinner with me.\n"
     ]
    }
   ],
   "source": [
    "dinner_guests = [\"Kamran Chughtai\", \"Izhar ul Haque\", \"Syed Hassan Mehdi\"]       # List of friends I'd like to invite\n",
    "for guest in dinner_guests:                                                      # Loop through the list and print\n",
    "    print(f\"Dear {guest}, I'd like to invite youe to have a dinner with me.\")\n",
    "\n",
    "unavailable_guest = \"Kamran Chughtai\"                                            # Just suppose Kamran Chughtai can't make it\n",
    "print(f\"\\nUnfortunately, {unavailable_guest} can't make it to dinner.\\n\")\n",
    "\n",
    "new_guest = \"Aziz Subhani\"                                                       # Replace unavailable guest with new guest\n",
    "dinner_guests[dinner_guests.index(unavailable_guest)] = new_guest\n",
    "\n",
    "for guest in dinner_guests:                                                      # Print new set of invitation messages\n",
    "    print(f\"Dear {guest}, I'd like to invite youe to have a dinner with me.\")"
   ]
  },
  {
   "cell_type": "markdown",
   "metadata": {},
   "source": [
    "**Exercise 3-6: More Guests**\n",
    "* **Task**: <span style=\"color: red;\"><b>Start with your program from Exercise 3-4 or 3-5.</b></span> Add a <span style=\"color: green;\"><b>print()</b></span> call to the end of your program, informing people that you found a bigger table. Use <span style=\"color: green;\"><b>insert()</b></span> to add one new guest to the beginning of your list. Use <span style=\"color: green;\"><b>insert()</b></span> to add one new guest to the middle of your list. Use <span style=\"color: green;\"><b>append()</b></span> to add one new guest to the end of your list. Print a new set of invitation messages, one for each person in your list."
   ]
  },
  {
   "cell_type": "code",
   "execution_count": 6,
   "metadata": {},
   "outputs": [
    {
     "name": "stdout",
     "output_type": "stream",
     "text": [
      "Dear Kamran Chughtai, I'd like to invite youe to have a dinner with me.\n",
      "Dear Izhar ul Haque, I'd like to invite youe to have a dinner with me.\n",
      "Dear Syed Hassan Mehdi, I'd like to invite youe to have a dinner with me.\n",
      "\n",
      "Unfortunately, Kamran Chughtai can't make it to dinner.\n",
      "\n",
      "Dear Aziz Subhani, I'd like to invite youe to have a dinner with me.\n",
      "Dear Izhar ul Haque, I'd like to invite youe to have a dinner with me.\n",
      "Dear Syed Hassan Mehdi, I'd like to invite youe to have a dinner with me.\n",
      "\n",
      "Great news! I found a bigger table, so I can invite more guests.\n",
      "\n",
      "Dear Arshad Ali, I'd like to invite youe to have a dinner with me.\n",
      "Dear Aziz Subhani, I'd like to invite youe to have a dinner with me.\n",
      "Dear Muhammad Zaib, I'd like to invite youe to have a dinner with me.\n",
      "Dear Izhar ul Haque, I'd like to invite youe to have a dinner with me.\n",
      "Dear Syed Hassan Mehdi, I'd like to invite youe to have a dinner with me.\n",
      "Dear Wasif Nawaz, I'd like to invite youe to have a dinner with me.\n"
     ]
    }
   ],
   "source": [
    "dinner_guests = [\"Kamran Chughtai\", \"Izhar ul Haque\", \"Syed Hassan Mehdi\"]       # List of friends I'd like to invite\n",
    "for guest in dinner_guests:                                                      # Loop through the list and print\n",
    "    print(f\"Dear {guest}, I'd like to invite youe to have a dinner with me.\")\n",
    "\n",
    "unavailable_guest = \"Kamran Chughtai\"                                            # Just suppose Kamran Chughtai can't make it\n",
    "print(f\"\\nUnfortunately, {unavailable_guest} can't make it to dinner.\\n\")\n",
    "\n",
    "new_guest = \"Aziz Subhani\"                                                       # Replace unavailable guest with new guest\n",
    "dinner_guests[dinner_guests.index(unavailable_guest)] = new_guest\n",
    "\n",
    "for guest in dinner_guests:                                                      # Print new set of invitation messages\n",
    "    print(f\"Dear {guest}, I'd like to invite youe to have a dinner with me.\")\n",
    "    \n",
    "print(\"\\nGreat news! I found a bigger table, so I can invite more guests.\\n\")    # Inform about the bigger table\n",
    "\n",
    "# Add new guests to the list\n",
    "dinner_guests.insert(0, \"Arshad Ali\")                                            # Add to the beginning\n",
    "dinner_guests.insert(2, \"Muhammad Zaib\")                                         # Add to the middle\n",
    "dinner_guests.append(\"Wasif Nawaz\")                                              # Add to the end\n",
    "\n",
    "for guest in dinner_guests:                                                      # Print final set of invitation messages\n",
    "    print(f\"Dear {guest}, I'd like to invite youe to have a dinner with me.\")"
   ]
  },
  {
   "cell_type": "markdown",
   "metadata": {},
   "source": [
    "**Exercise 3-7: Shrinking Guest List**\n",
    "* **Task**: <span style=\"color: red;\"><b>Start with your program from Exercise 3-6.</b></span> Add a new line that prints a message saying that you can invite only two people for dinner. Use <span style=\"color: green;\"><b>pop()</b></span> to remove guests from your list one at a time until only two names remain in your list. Each time you pop a name from your list, print a message to that person letting them know you’re sorry you can’t invite them to dinner. Print a message to each of the two people still on your list, letting them know they’re still invited. Use <span style=\"color: green;\"><b>del</b></span> to remove the last two names from your list, so you have an empty list. Print your list to make sure you actually have an empty list at the end of your program."
   ]
  },
  {
   "cell_type": "code",
   "execution_count": 7,
   "metadata": {},
   "outputs": [
    {
     "name": "stdout",
     "output_type": "stream",
     "text": [
      "Dear Kamran Chughtai, I'd like to invite youe to have a dinner with me.\n",
      "Dear Izhar ul Haque, I'd like to invite youe to have a dinner with me.\n",
      "Dear Syed Hassan Mehdi, I'd like to invite youe to have a dinner with me.\n",
      "\n",
      "Unfortunately, Kamran Chughtai can't make it to dinner.\n",
      "\n",
      "Dear Aziz Subhani, I'd like to invite youe to have a dinner with me.\n",
      "Dear Izhar ul Haque, I'd like to invite youe to have a dinner with me.\n",
      "Dear Syed Hassan Mehdi, I'd like to invite youe to have a dinner with me.\n",
      "\n",
      "Great news! I found a bigger table, so I can invite more guests.\n",
      "\n",
      "Dear Arshad Ali, I'd like to invite youe to have a dinner with me.\n",
      "Dear Aziz Subhani, I'd like to invite youe to have a dinner with me.\n",
      "Dear Muhammad Zaib, I'd like to invite youe to have a dinner with me.\n",
      "Dear Izhar ul Haque, I'd like to invite youe to have a dinner with me.\n",
      "Dear Syed Hassan Mehdi, I'd like to invite youe to have a dinner with me.\n",
      "Dear Wasif Nawaz, I'd like to invite youe to have a dinner with me.\n",
      "\n",
      "Unfortunately, I can just invite two friends to dinner.\n",
      "\n",
      "Dear Wasif Nawaz, I'm sorry, but I can't invite you to dinner.\n",
      "Dear Syed Hassan Mehdi, I'm sorry, but I can't invite you to dinner.\n",
      "Dear Izhar ul Haque, I'm sorry, but I can't invite you to dinner.\n",
      "Dear Muhammad Zaib, I'm sorry, but I can't invite you to dinner.\n",
      "Dear Arshad Ali, you are still invited to dinner.\n",
      "Dear Aziz Subhani, you are still invited to dinner.\n",
      "\n",
      "The final guest list is: []\n"
     ]
    }
   ],
   "source": [
    "dinner_guests = [\"Kamran Chughtai\", \"Izhar ul Haque\", \"Syed Hassan Mehdi\"]           # List of friends I'd like to invite\n",
    "for guest in dinner_guests:                                                          # Loop through the list and print\n",
    "    print(f\"Dear {guest}, I'd like to invite youe to have a dinner with me.\")\n",
    "\n",
    "unavailable_guest = \"Kamran Chughtai\"                                                # Just suppose Kamran Chughtai can't make it\n",
    "print(f\"\\nUnfortunately, {unavailable_guest} can't make it to dinner.\\n\")\n",
    "\n",
    "new_guest = \"Aziz Subhani\"                                                           # Replace unavailable guest with new guest\n",
    "dinner_guests[dinner_guests.index(unavailable_guest)] = new_guest\n",
    "\n",
    "for guest in dinner_guests:                                                          # Print new set of invitation messages\n",
    "    print(f\"Dear {guest}, I'd like to invite youe to have a dinner with me.\")\n",
    "    \n",
    "print(\"\\nGreat news! I found a bigger table, so I can invite more guests.\\n\")        # Inform about the bigger table\n",
    "\n",
    "# Add new guests to the list\n",
    "dinner_guests.insert(0, \"Arshad Ali\")                                                # Add to the beginning\n",
    "dinner_guests.insert(2, \"Muhammad Zaib\")                                             # Add to the middle\n",
    "dinner_guests.append(\"Wasif Nawaz\")                                                  # Add to the end\n",
    "\n",
    "for guest in dinner_guests:                                                          # Print final set of invitation messages\n",
    "    print(f\"Dear {guest}, I'd like to invite youe to have a dinner with me.\")\n",
    "\n",
    "print(\"\\nUnfortunately, I can just invite two friends to dinner.\\n\")                 # Inform that just two guests can be invited\n",
    "\n",
    "# Remove guests one by one until only two remain\n",
    "while len(dinner_guests) > 2:\n",
    "    removed_guest = dinner_guests.pop()\n",
    "    print(f\"Dear {removed_guest}, I'm sorry, but I can't invite you to dinner.\")\n",
    "\n",
    "for guest in dinner_guests:                                                          # Print final invitations for remaining two guests\n",
    "    print(f\"Dear {guest}, you are still invited to dinner.\")\n",
    "\n",
    "# Remove last two guests using del and confirm list is empty\n",
    "del dinner_guests[0]\n",
    "del dinner_guests[0]\n",
    "\n",
    "print(f\"\\nThe final guest list is: {dinner_guests}\")                                 # Print list to confirm it's empty"
   ]
  },
  {
   "cell_type": "markdown",
   "metadata": {},
   "source": [
    "**Exercise 3-8: Seeing the World**\n",
    "* **Task**: Think of at least five places in the world you’d like to visit. Store the locations in a list. Make sure the list is not in alphabetical order. Print your list in its original order. Don’t worry about printing the list neatly; just print it as a raw Python list. Use <span style=\"color: green;\"><b>sorted()</b></span> to print your list in alphabetical order without modifying the actual list. Show that your list is still in its original order by printing it. Use <span style=\"color: green;\"><b>sorted()</b></span> to print your list in reverse-alphabetical order without changing the order of the original list. Show that your list is still in its original order by printing it again. Use <span style=\"color: green;\"><b>reverse()</b></span> to change the order of your list. Print the list to show that its order has changed. Use <span style=\"color: green;\"><b>reverse()</b></span> to change the order of your list again. Print the list to show it’s back to its original order. Use <span style=\"color: green;\"><b>sort()</b></span> to change your list so it’s stored in alphabetical order. Print the list to show that its order has been changed. Use <span style=\"color: green;\"><b>sort()</b></span> to change your list so it’s stored in reverse-alphabetical order. Print the list to show that its order has changed."
   ]
  },
  {
   "cell_type": "code",
   "execution_count": 8,
   "metadata": {},
   "outputs": [
    {
     "name": "stdout",
     "output_type": "stream",
     "text": [
      "Original list:\n",
      "['Makkah', 'California', 'Toronto', 'Jerusalem', 'Anqara']\n",
      "\n",
      "List in alphabetical order (using sorted()):\n",
      "['Anqara', 'California', 'Jerusalem', 'Makkah', 'Toronto']\n",
      "\n",
      "Original list after sorted():\n",
      "['Makkah', 'California', 'Toronto', 'Jerusalem', 'Anqara']\n",
      "\n",
      "List in reverse-alphabetical order (using sorted()):\n",
      "['Toronto', 'Makkah', 'Jerusalem', 'California', 'Anqara']\n",
      "\n",
      "Original list after sorted() in reverse:\n",
      "['Makkah', 'California', 'Toronto', 'Jerusalem', 'Anqara']\n",
      "\n",
      "List after using reverse():\n",
      "['Anqara', 'Jerusalem', 'Toronto', 'California', 'Makkah']\n",
      "\n",
      "List after using reverse() again to return to the original order:\n",
      "['Makkah', 'California', 'Toronto', 'Jerusalem', 'Anqara']\n",
      "\n",
      "List after using sort() to put it in alphabetical order:\n",
      "['Anqara', 'California', 'Jerusalem', 'Makkah', 'Toronto']\n",
      "\n",
      "List after using sort() to put it in reverse-alphabetical order:\n",
      "['Toronto', 'Makkah', 'Jerusalem', 'California', 'Anqara']\n"
     ]
    }
   ],
   "source": [
    "places_to_visit = [\"Makkah\", \"California\", \"Toronto\", \"Jerusalem\", \"Anqara\"]     # List of places I'd like to visit\n",
    "print(\"Original list:\")                                                          # Print the list in its original order\n",
    "print(places_to_visit)\n",
    "\n",
    "print(\"\\nList in alphabetical order (using sorted()):\")                          # Print the list in alphabetical order using sorted()\n",
    "print(sorted(places_to_visit))\n",
    "print(\"\\nOriginal list after sorted():\")                                         # Show that the original list is still in its original order\n",
    "print(places_to_visit)\n",
    "\n",
    "print(\"\\nList in reverse-alphabetical order (using sorted()):\")                  # Print the list in reverse-alphabetical order using sorted()\n",
    "print(sorted(places_to_visit, reverse=True))\n",
    "print(\"\\nOriginal list after sorted() in reverse:\")                              # Show that the original list is still in its original order\n",
    "print(places_to_visit)\n",
    "\n",
    "places_to_visit.reverse()                                                        # Reverse the order of the list\n",
    "print(\"\\nList after using reverse():\")\n",
    "print(places_to_visit)\n",
    "places_to_visit.reverse()                                                        # Reverse the order again to get back to the original order\n",
    "print(\"\\nList after using reverse() again to return to the original order:\")\n",
    "print(places_to_visit)\n",
    "\n",
    "places_to_visit.sort()                                                           # Sort the list in alphabetical order\n",
    "print(\"\\nList after using sort() to put it in alphabetical order:\")\n",
    "print(places_to_visit)\n",
    "places_to_visit.sort(reverse=True)                                               # Sort the list in reverse-alphabetical order\n",
    "print(\"\\nList after using sort() to put it in reverse-alphabetical order:\")\n",
    "print(places_to_visit)"
   ]
  },
  {
   "cell_type": "markdown",
   "metadata": {},
   "source": [
    "**Exercise 3-9: Every Function**\n",
    "* **Task**: Think of things you could store in a list. For example, you could make a list of mountains, rivers, countries, cities, languages, or anything else you’d like. Write a program that creates a list containing these items and then uses each function introduced in this chapter at least once."
   ]
  },
  {
   "cell_type": "code",
   "execution_count": 9,
   "metadata": {},
   "outputs": [
    {
     "name": "stdout",
     "output_type": "stream",
     "text": [
      "List of rivers:\n",
      "['Indus', 'Nile', 'Missouri', 'Mississippi', 'Ganges']\n",
      "\n",
      "Rivers in alphabetical order (using sorted()):\n",
      "['Ganges', 'Indus', 'Mississippi', 'Missouri', 'Nile']\n",
      "\n",
      "Original list after using sorted():\n",
      "['Indus', 'Nile', 'Missouri', 'Mississippi', 'Ganges']\n",
      "\n",
      "Rivers in reverse-alphabetical order (using sorted()):\n",
      "['Nile', 'Missouri', 'Mississippi', 'Indus', 'Ganges']\n",
      "\n",
      "Original list after using sorted() in reverse:\n",
      "['Indus', 'Nile', 'Missouri', 'Mississippi', 'Ganges']\n",
      "\n",
      "List of rivers after using reverse():\n",
      "['Ganges', 'Mississippi', 'Missouri', 'Nile', 'Indus']\n",
      "\n",
      "List of rivers after using reverse() again to return to the original order:\n",
      "['Indus', 'Nile', 'Missouri', 'Mississippi', 'Ganges']\n",
      "\n",
      "List of rivers after using sort() to arrange in alphabetical order:\n",
      "['Ganges', 'Indus', 'Mississippi', 'Missouri', 'Nile']\n",
      "\n",
      "List of rivers after using sort(reverse=True) to arrange in reverse-alphabetical order:\n",
      "['Nile', 'Missouri', 'Mississippi', 'Indus', 'Ganges']\n",
      "\n",
      "List of rivers after using append() to add a new river:\n",
      "['Nile', 'Missouri', 'Mississippi', 'Indus', 'Ganges', 'Ganges']\n",
      "\n",
      "List of rivers after using insert() to add a river at the beginning:\n",
      "['Volga', 'Nile', 'Missouri', 'Mississippi', 'Indus', 'Ganges', 'Ganges']\n",
      "\n",
      "List of rivers after using del to remove the first river:\n",
      "['Nile', 'Missouri', 'Mississippi', 'Indus', 'Ganges', 'Ganges']\n",
      "\n",
      "List of rivers after using pop() to remove the last river:\n",
      "['Nile', 'Missouri', 'Mississippi', 'Indus', 'Ganges']\n",
      "Popped river: Ganges\n",
      "\n",
      "List of rivers after using remove() to delete 'Missouri':\n",
      "['Nile', 'Mississippi', 'Indus', 'Ganges']\n",
      "\n",
      "Number of rivers in the list: 4\n"
     ]
    }
   ],
   "source": [
    "rivers = [\"Indus\", \"Nile\", \"Missouri\", \"Mississippi\", \"Ganges\"]               # List of rivers\n",
    "print(\"List of rivers:\")                                                      # Print names of rivers\n",
    "print(rivers)\n",
    "\n",
    "print(\"\\nRivers in alphabetical order (using sorted()):\")                     # Print the list in alphabetical order\n",
    "print(sorted(rivers))\n",
    "print(\"\\nOriginal list after using sorted():\")                                # Show the original list remains unchanged\n",
    "print(rivers)\n",
    "\n",
    "print(\"\\nRivers in reverse-alphabetical order (using sorted()):\")             # Print list in reverse-alphabetical order\n",
    "print(sorted(rivers, reverse=True))\n",
    "print(\"\\nOriginal list after using sorted() in reverse:\")                     # Show the original list remains unchanged\n",
    "print(rivers)\n",
    "\n",
    "rivers.reverse()                                                             # Reverse the order of the list\n",
    "print(\"\\nList of rivers after using reverse():\")\n",
    "print(rivers)\n",
    "\n",
    "rivers.reverse()                                                             # Reverse the order back to the original\n",
    "print(\"\\nList of rivers after using reverse() again to return to the original order:\")\n",
    "print(rivers)\n",
    "\n",
    "rivers.sort()                                                                # Sort the list in alphabetical order\n",
    "print(\"\\nList of rivers after using sort() to arrange in alphabetical order:\")\n",
    "print(rivers)\n",
    "\n",
    "rivers.sort(reverse=True)                                                   # Sort the list in reverse-alphabetical order\n",
    "print(\"\\nList of rivers after using sort(reverse=True) to arrange in reverse-alphabetical order:\")\n",
    "print(rivers)\n",
    "\n",
    "rivers.append(\"Ganges\")                                                     # Add a new river to the list\n",
    "print(\"\\nList of rivers after using append() to add a new river:\")\n",
    "print(rivers)\n",
    "\n",
    "rivers.insert(0, \"Volga\")                                                  # Insert a river at the beginning of the list\n",
    "print(\"\\nList of rivers after using insert() to add a river at the beginning:\")\n",
    "print(rivers)\n",
    "\n",
    "del rivers[0]                                                             # Remove the first river from the list\n",
    "print(\"\\nList of rivers after using del to remove the first river:\")\n",
    "print(rivers)\n",
    "\n",
    "popped_river = rivers.pop()                                                # Pop the last river from the list\n",
    "print(\"\\nList of rivers after using pop() to remove the last river:\")\n",
    "print(rivers)\n",
    "print(f\"Popped river: {popped_river}\")\n",
    "\n",
    "rivers.remove(\"Missouri\")                                                   # Remove a specific river by value\n",
    "print(\"\\nList of rivers after using remove() to delete 'Missouri':\")\n",
    "print(rivers)\n",
    "\n",
    "print(f\"\\nNumber of rivers in the list: {len(rivers)}\")                   # Print the number of rivers in the list"
   ]
  },
  {
   "cell_type": "markdown",
   "metadata": {},
   "source": [
    "**Exercise 3-10: Intentional Error**\n",
    "* **Task**: If you haven’t received an index error in one of your programs yet, try to make one happen. Change an index in one of your programs to produce an index error. Make sure you correct the error before closing the program."
   ]
  },
  {
   "cell_type": "code",
   "execution_count": 10,
   "metadata": {},
   "outputs": [
    {
     "name": "stdout",
     "output_type": "stream",
     "text": [
      "List of rivers:\n",
      "['Indus', 'Nile', 'Missouri', 'Mississippi', 'Ganges']\n",
      "\n",
      "Attempting to access an invalid index:\n",
      "\n",
      "Accessing a valid index:\n",
      "Missouri\n",
      "List of rivers:\n",
      "['Indus', 'Nile', 'Missouri', 'Mississippi', 'Ganges']\n",
      "\n",
      "Accessing a valid index:\n",
      "Missouri\n"
     ]
    }
   ],
   "source": [
    "rivers = [\"Indus\", \"Nile\", \"Missouri\", \"Mississippi\", \"Ganges\"]               # List of rivers\n",
    "print(\"List of rivers:\")                                                      # Print names of rivers\n",
    "print(rivers)\n",
    "\n",
    "print(\"\\nAttempting to access an invalid index:\")                             #  Attempt to access an index that doesn't exist\n",
    "# print(rivers[10])                                                           # This will cause an IndexError because index 10 is out of range\n",
    "\n",
    "print(\"\\nAccessing a valid index:\")                                           # Correct the error by accessing a valid index\n",
    "print(rivers[2])                                                              # This will print \"Yangtze\" since it's at index 2\n",
    "\n",
    "rivers = [\"Indus\", \"Nile\", \"Missouri\", \"Mississippi\", \"Ganges\"]               # Full corrected program code\n",
    "print(\"List of rivers:\")                                                      # Print names of rivers\n",
    "print(rivers)\n",
    "print(\"\\nAccessing a valid index:\")                                           # Correct the error by accessing a valid index\n",
    "print(rivers[2])                                                              # This will print \"Missouri\" since it's at index 2"
   ]
  },
  {
   "cell_type": "markdown",
   "metadata": {},
   "source": [
    "#### **End of Assignment**"
   ]
  }
 ],
 "metadata": {
  "kernelspec": {
   "display_name": "Python 3 (ipykernel)",
   "language": "python",
   "name": "python3"
  },
  "language_info": {
   "codemirror_mode": {
    "name": "ipython",
    "version": 3
   },
   "file_extension": ".py",
   "mimetype": "text/x-python",
   "name": "python",
   "nbconvert_exporter": "python",
   "pygments_lexer": "ipython3",
   "version": "3.12.4"
  }
 },
 "nbformat": 4,
 "nbformat_minor": 4
}
